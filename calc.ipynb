{
 "cells": [
  {
   "cell_type": "code",
   "execution_count": 1,
   "metadata": {},
   "outputs": [],
   "source": [
    "import pandas as pd\n",
    "import numpy as np\n",
    "import keras.backend as K\n",
    "from keras.datasets import mnist\n",
    "from keras.models import Sequential\n",
    "from keras.layers import Dense\n",
    "from keras.layers import Conv2D, MaxPool2D, Flatten, Activation\n",
    "from keras.utils.np_utils import to_categorical\n",
    "from keras.optimizers import Adam\n",
    "from matplotlib import pyplot as plt"
   ]
  },
  {
   "cell_type": "code",
   "execution_count": 7,
   "metadata": {},
   "outputs": [],
   "source": [
    "(X_train, y_train), (X_test, y_test) = mnist.load_data()"
   ]
  },
  {
   "cell_type": "code",
   "execution_count": 8,
   "metadata": {},
   "outputs": [],
   "source": [
    "X_train = X_train.reshape(-1, 28, 28, 1)\n",
    "X_test = X_test.reshape(-1, 28, 28, 1)"
   ]
  },
  {
   "cell_type": "code",
   "execution_count": 9,
   "metadata": {},
   "outputs": [],
   "source": [
    "y_train_cat = to_categorical(y_train)\n",
    "y_test_cat = to_categorical(y_test)"
   ]
  },
  {
   "cell_type": "code",
   "execution_count": 10,
   "metadata": {},
   "outputs": [],
   "source": [
    "X_train = X_train.astype('float32')\n",
    "X_test = X_test.astype('float32')\n",
    "X_train /= 255.0\n",
    "X_test /= 255.0"
   ]
  },
  {
   "cell_type": "code",
   "execution_count": 11,
   "metadata": {},
   "outputs": [],
   "source": [
    "model = Sequential()\n",
    "\n",
    "model.add(Conv2D(32, (3, 3), input_shape = (28, 28, 1)))\n",
    "model.add(MaxPool2D(pool_size = (2, 2)))\n",
    "model.add(Activation('relu'))\n",
    "\n",
    "model.add(Flatten())\n",
    "\n",
    "model.add(Dense(128, activation = 'relu'))\n",
    "model.add(Dense(10, activation = 'softmax'))"
   ]
  },
  {
   "cell_type": "code",
   "execution_count": 13,
   "metadata": {},
   "outputs": [],
   "source": [
    "model.compile(loss = 'categorical_crossentropy', optimizer = Adam(), metrics = ['accuracy'])"
   ]
  },
  {
   "cell_type": "code",
   "execution_count": 14,
   "metadata": {},
   "outputs": [
    {
     "name": "stdout",
     "output_type": "stream",
     "text": [
      "Epoch 1/8\n",
      "1313/1313 [==============================] - 10s 8ms/step - loss: 0.1752 - accuracy: 0.9468 - val_loss: 0.0757 - val_accuracy: 0.9773\n",
      "Epoch 2/8\n",
      "1313/1313 [==============================] - 10s 8ms/step - loss: 0.0577 - accuracy: 0.9822 - val_loss: 0.0652 - val_accuracy: 0.9793\n",
      "Epoch 3/8\n",
      "1313/1313 [==============================] - 10s 8ms/step - loss: 0.0352 - accuracy: 0.9896 - val_loss: 0.0578 - val_accuracy: 0.9826\n",
      "Epoch 4/8\n",
      "1313/1313 [==============================] - 10s 8ms/step - loss: 0.0243 - accuracy: 0.9924 - val_loss: 0.0667 - val_accuracy: 0.9809\n",
      "Epoch 5/8\n",
      "1313/1313 [==============================] - 10s 8ms/step - loss: 0.0153 - accuracy: 0.9948 - val_loss: 0.0718 - val_accuracy: 0.9821\n",
      "Epoch 6/8\n",
      "1313/1313 [==============================] - 10s 8ms/step - loss: 0.0115 - accuracy: 0.9961 - val_loss: 0.0717 - val_accuracy: 0.9821\n",
      "Epoch 7/8\n",
      "1313/1313 [==============================] - 10s 8ms/step - loss: 0.0083 - accuracy: 0.9975 - val_loss: 0.0686 - val_accuracy: 0.9833\n",
      "Epoch 8/8\n",
      "1313/1313 [==============================] - 10s 8ms/step - loss: 0.0077 - accuracy: 0.9973 - val_loss: 0.0797 - val_accuracy: 0.9816\n"
     ]
    },
    {
     "data": {
      "text/plain": [
       "<tensorflow.python.keras.callbacks.History at 0x7fe444a59790>"
      ]
     },
     "execution_count": 14,
     "metadata": {},
     "output_type": "execute_result"
    }
   ],
   "source": [
    "model.fit(X_train, y_train_cat, batch_size = 32, epochs = 4, verbose = 1, validation_split = 0.3)"
   ]
  },
  {
   "cell_type": "code",
   "execution_count": 15,
   "metadata": {},
   "outputs": [
    {
     "name": "stdout",
     "output_type": "stream",
     "text": [
      "313/313 [==============================] - 0s 1ms/step - loss: 0.0649 - accuracy: 0.9840\n"
     ]
    },
    {
     "data": {
      "text/plain": [
       "[0.0649367943406105, 0.984000027179718]"
      ]
     },
     "execution_count": 15,
     "metadata": {},
     "output_type": "execute_result"
    }
   ],
   "source": [
    "model.evaluate(X_test, y_test_cat)"
   ]
  },
  {
   "cell_type": "code",
   "execution_count": 1,
   "metadata": {},
   "outputs": [],
   "source": [
    "from numpy import argmax\n",
    "from tkinter import *\n",
    "import tkinter as tk\n",
    "import math\n",
    "from PIL import Image, ImageDraw"
   ]
  },
  {
   "cell_type": "code",
   "execution_count": null,
   "metadata": {},
   "outputs": [],
   "source": [
    "white = (255, 255, 255)\n",
    "black = (0, 0, 0)\n",
    "window = Tk()\n",
    " \n",
    "window.title(\"Scribble Calculator\")\n",
    " \n",
    "window.geometry('500x500')\n",
    " \n",
    "lbl = Label(window, text=\"Scribble in digits with your mouse within the gray square\",font=('Arial Bold',16))\n",
    " \n",
    "lbl.grid(column=3, row=0)\n",
    " \n",
    "canvas_width = 120\n",
    "canvas_height = 120\n",
    "image1 = Image.new(\"RGB\", (canvas_width, canvas_height),white)\n",
    "draw = ImageDraw.Draw(image1)\n",
    "counter=0\n",
    "xpoints=[]\n",
    "ypoints=[]\n",
    "x2points=[]\n",
    "y2points=[]\n",
    "global predictions\n",
    "predictions = []\n",
    "number1 = []\n",
    "digits=0\n",
    "\n",
    "def paint( event ):\n",
    "    x1, y1 = ( event.x - 4 ), ( event.y - 4 )\n",
    "    x2, y2 = ( event.x + 4 ), ( event.y + 4 )\n",
    "    w.create_oval( x1, y1, x2, y2, fill = 'black' )\n",
    "    xpoints.append(x1)\n",
    "    ypoints.append(y1)\n",
    "    x2points.append(x2) \n",
    "    y2points.append(y2)    \n",
    "    \n",
    "def imagen ():\n",
    "    global counter\n",
    "    global xpoints\n",
    "    global ypoints    \n",
    "    global x2points\n",
    "    global y2points\n",
    "    counter=counter+1\n",
    "\n",
    "    image1 = Image.new(\"RGB\", (canvas_width, canvas_height),black)\n",
    "    draw = ImageDraw.Draw(image1) \n",
    "\n",
    "    elementos=len(xpoints)\n",
    "    \n",
    "    \n",
    "\n",
    "    for p in range (elementos):\n",
    "        x=xpoints[p]\n",
    "        y=ypoints[p]\n",
    "        x2=x2points[p]\n",
    "        y2=y2points[p] \n",
    "        draw.ellipse((x,y,x2,y2),'white')\n",
    "        w.create_oval( x-4, y-4, x2+4, y2+4,outline='gray85', fill = 'gray85' )\n",
    "\n",
    "    size=(28,28)\n",
    "    image1 = image1.resize(size)\n",
    "\n",
    "    \n",
    "    image1 = image1.convert('L')\n",
    "    image1 = np.array(image1)\n",
    "    image1 = image1.reshape(-1, 28, 28, 1)\n",
    "    image1 = image1.astype('float32')\n",
    "    image1 /= 255.0\n",
    "\n",
    "    \n",
    "    predictions.append(argmax(model.predict(image1)))\n",
    "    lbl2 = Label(window, text=predictions[counter-1],font=('Arial Bold',20))\n",
    "    lbl2.grid(column=3, row=10)\n",
    "    \n",
    "\n",
    "    xpoints=[]\n",
    "    ypoints=[]\n",
    "    x2points=[]\n",
    "    y2points=[] \n",
    "\n",
    "\n",
    "w = Canvas(window, \n",
    "           width=canvas_width, \n",
    "           height=canvas_height,bg='gray85')\n",
    "w.grid(column=3,row=2)\n",
    "def delete ():\n",
    "    global counter\n",
    "    counter = counter-1\n",
    "    del predictions[counter]\n",
    "    w1 = Canvas(window, \n",
    "           width=200, \n",
    "           height=20,bg='gray95')\n",
    "    w1.grid(column=3,row=10)\n",
    "    \n",
    "\n",
    "def add():\n",
    "    global operation\n",
    "    global counter\n",
    "    global digits\n",
    "    digits=counter\n",
    "    operation = 'add'\n",
    "def subtract():\n",
    "    global operation\n",
    "    global counter\n",
    "    global digits\n",
    "    digits=counter\n",
    "    operation = 'subtract'\n",
    "def multiply():\n",
    "    global operation\n",
    "    global counter\n",
    "    global digits\n",
    "    digits=counter\n",
    "    operation = 'multiply'\n",
    "def divide():\n",
    "    global operation\n",
    "    global counter\n",
    "    global digits\n",
    "    digits=counter\n",
    "    operation = 'divide'\n",
    "def equals():\n",
    "    digitone=''\n",
    "    digittwo=''\n",
    "    global digits\n",
    "    global predictions\n",
    "    global counter\n",
    "    digitstotal=len(predictions)\n",
    "    for x in range(digits):\n",
    "        digitone=digitone+str(predictions[x])\n",
    "        predictions[0]=int(digitone)\n",
    "    for x in range(digits,digitstotal):\n",
    "        digittwo=digittwo+str(predictions[x])       \n",
    "        predictions[1]=int(digittwo)\n",
    "    \n",
    "    if operation == 'add':\n",
    "        answer = predictions[0]+predictions[1]\n",
    "    if operation == 'subtract':\n",
    "        answer = predictions[0]-predictions[1]\n",
    "    if operation == 'multiply':\n",
    "        answer = predictions[0]*predictions[1]\n",
    "    if operation == 'divide':\n",
    "        answer = predictions[0]/predictions[1]\n",
    "        \n",
    "    lbl2 = Label(window, text=answer,font=('Arial Bold',20))\n",
    "    lbl2.grid(column=3, row=10)\n",
    "    predictions=[]\n",
    "    counter=0\n",
    "def reset():\n",
    "    global predictions\n",
    "    global counter\n",
    "    predictions=[]\n",
    "    counter=0\n",
    "    w1 = Canvas(window, \n",
    "           width=200, \n",
    "           height=20,bg='gray95')\n",
    "    w1.grid(column=3,row=10)\n",
    "w1 = Canvas(window, width=200, height=20,bg='gray95')\n",
    "w1.grid(column=3,row=10)\n",
    "\n",
    "w.bind( \"<B1-Motion>\", paint )\n",
    "button = tk.Button(window, text='Save image', width=25, command=imagen)\n",
    "button.grid(column=3,row=3)\n",
    "\n",
    "button2 = tk.Button(window, text='Add', width=25, command=add)\n",
    "button2.grid(column=3,row=5)\n",
    "\n",
    "button3 = tk.Button(window, text='Subtract', width=25, command=subtract)\n",
    "button3.grid(column=3,row=6)\n",
    "\n",
    "button4 = tk.Button(window, text='Multiply', width=25, command=multiply)\n",
    "button4.grid(column=3,row=7)\n",
    "\n",
    "button5 = tk.Button(window, text='Divide', width=25, command=divide)\n",
    "button5.grid(column=3,row=8)\n",
    "\n",
    "button6 = tk.Button(window, text='=', width=25, command=equals)\n",
    "button6.grid(column=3,row=9)\n",
    "\n",
    "button6 = tk.Button(window, text='Click here if the number is not correct', width=35, command=delete)\n",
    "button6.grid(column=3,row=12)\n",
    "\n",
    "button7 = tk.Button(window, text='Reset', width=25, command=reset)\n",
    "button7.grid(column=3,row=13)\n",
    "\n",
    "\n",
    "window.mainloop()"
   ]
  }
 ],
 "metadata": {
  "kernelspec": {
   "display_name": "Python 3",
   "language": "python",
   "name": "python3"
  },
  "language_info": {
   "codemirror_mode": {
    "name": "ipython",
    "version": 3
   },
   "file_extension": ".py",
   "mimetype": "text/x-python",
   "name": "python",
   "nbconvert_exporter": "python",
   "pygments_lexer": "ipython3",
   "version": "3.7.6"
  }
 },
 "nbformat": 4,
 "nbformat_minor": 4
}
